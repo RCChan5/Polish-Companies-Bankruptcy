{
 "cells": [
  {
   "cell_type": "code",
   "execution_count": 9,
   "metadata": {},
   "outputs": [],
   "source": [
    "import pandas as pd\n",
    "import numpy as np\n",
    "from sklearn.model_selection import train_test_split\n",
    "from sklearn.metrics import mean_squared_error\n",
    "import xgboost as xgb"
   ]
  },
  {
   "cell_type": "markdown",
   "metadata": {},
   "source": [
    "# Import Dataset"
   ]
  },
  {
   "cell_type": "code",
   "execution_count": 10,
   "metadata": {},
   "outputs": [],
   "source": [
    "from ucimlrepo import fetch_ucirepo \n",
    "  \n",
    "# fetch dataset \n",
    "polish_companies_bankruptcy = fetch_ucirepo(id=365) \n",
    "  \n",
    "# data (as pandas dataframes) \n",
    "X = polish_companies_bankruptcy.data.features \n",
    "y = polish_companies_bankruptcy.data.targets \n",
    "  \n"
   ]
  },
  {
   "cell_type": "markdown",
   "metadata": {},
   "source": [
    "## 2.1 Data Quality and Suitability\n"
   ]
  },
  {
   "cell_type": "code",
   "execution_count": 11,
   "metadata": {},
   "outputs": [
    {
     "name": "stdout",
     "output_type": "stream",
     "text": [
      "     name     role        type demographic description units missing_values\n",
      "0    year  Feature     Integer        None        None  None             no\n",
      "1      A1  Feature  Continuous        None        None  None             no\n",
      "2      A2  Feature  Continuous        None        None  None             no\n",
      "3      A3  Feature  Continuous        None        None  None             no\n",
      "4      A4  Feature  Continuous        None        None  None            yes\n",
      "..    ...      ...         ...         ...         ...   ...            ...\n",
      "61    A61  Feature  Continuous        None        None  None            yes\n",
      "62    A62  Feature  Continuous        None        None  None             no\n",
      "63    A63  Feature  Continuous        None        None  None            yes\n",
      "64    A64  Feature  Continuous        None        None  None            yes\n",
      "65  class   Target     Integer        None        None  None             no\n",
      "\n",
      "[66 rows x 7 columns]\n",
      "<bound method DataFrame.info of        year        A1       A2        A3       A4        A5       A6  \\\n",
      "0         1  0.200550  0.37951  0.396410  2.04720   32.3510  0.38825   \n",
      "1         1  0.209120  0.49988  0.472250  1.94470   14.7860  0.00000   \n",
      "2         1  0.248660  0.69592  0.267130  1.55480   -1.1523  0.00000   \n",
      "3         1  0.081483  0.30734  0.458790  2.49280   51.9520  0.14988   \n",
      "4         1  0.187320  0.61323  0.229600  1.40630   -7.3128  0.18732   \n",
      "...     ...       ...      ...       ...      ...       ...      ...   \n",
      "43400     5  0.012898  0.70621  0.038857  1.17220  -18.9070  0.00000   \n",
      "43401     5 -0.578050  0.96702 -0.800850  0.16576  -67.3650 -0.57805   \n",
      "43402     5 -0.179050  1.25530 -0.275990  0.74554 -120.4400 -0.17905   \n",
      "43403     5 -0.108860  0.74394  0.015449  1.08780  -17.0030 -0.10886   \n",
      "43404     5 -0.105370  0.53629 -0.045578  0.91478  -56.0680 -0.10537   \n",
      "\n",
      "             A7       A8       A9  ...        A55       A56       A57  \\\n",
      "0      0.249760  1.33050  1.13890  ...  348690.00  0.121960  0.397180   \n",
      "1      0.258340  0.99601  1.69960  ...    2304.60  0.121300  0.420020   \n",
      "2      0.309060  0.43695  1.30900  ...    6332.70  0.241140  0.817740   \n",
      "3      0.092704  1.86610  1.05710  ...   20545.00  0.054015  0.142070   \n",
      "4      0.187320  0.63070  1.15590  ...    3186.60  0.134850  0.484310   \n",
      "...         ...      ...      ...  ...        ...       ...       ...   \n",
      "43400  0.013981  0.41600  1.67680  ...    3599.10  0.020169  0.043904   \n",
      "43401 -0.578050 -0.40334  0.93979  ...   -9242.10 -0.064073  1.482000   \n",
      "43402 -0.154930 -0.26018  1.17490  ...  -58253.00  0.148880  0.548240   \n",
      "43403 -0.109180  0.12531  0.84516  ...    1107.50 -0.183200 -1.167700   \n",
      "43404 -0.109940  0.86460  0.95040  ...    -425.13 -0.052186 -0.227250   \n",
      "\n",
      "           A58       A59       A60      A61      A62     A63       A64  \n",
      "0      0.87804  0.001924    8.4160   5.1372   82.658  4.4158   7.42770  \n",
      "1      0.85300  0.000000    4.1486   3.2732  107.350  3.4000  60.98700  \n",
      "2      0.76599  0.694840    4.9909   3.9510  134.270  2.7185   5.20780  \n",
      "3      0.94598  0.000000    4.5746   3.6147   86.435  4.2228   5.54970  \n",
      "4      0.86515  0.124440    6.3985   4.3158  127.210  2.8692   7.89800  \n",
      "...        ...       ...       ...      ...      ...     ...       ...  \n",
      "43400  1.01220  1.259400   13.4720  12.4320   49.117  7.4313   2.27990  \n",
      "43401  1.06410 -0.018084  110.7200  44.7590   81.220  4.4940   5.13050  \n",
      "43402  0.85112 -0.522430    9.8526   3.4892  207.870  1.7559   9.95270  \n",
      "43403  1.18320  6.092400   13.8860   6.0769   83.122  4.3911   0.95575  \n",
      "43404  1.05220  0.003196    7.7332   4.7174  136.850  2.6672   2.79270  \n",
      "\n",
      "[43405 rows x 65 columns]>\n"
     ]
    }
   ],
   "source": [
    "# metadata \n",
    "#print(polish_companies_bankruptcy.metadata) \n",
    "  \n",
    "# variable information \n",
    "print(polish_companies_bankruptcy.variables) \n",
    "\n",
    "print(X.info)\n",
    "\n",
    "#print(X.describe(include='all'))"
   ]
  },
  {
   "cell_type": "code",
   "execution_count": 12,
   "metadata": {},
   "outputs": [
    {
     "data": {
      "text/plain": [
       "array([0, 1], dtype=int64)"
      ]
     },
     "execution_count": 12,
     "metadata": {},
     "output_type": "execute_result"
    }
   ],
   "source": [
    "\n",
    "np.unique(y.values)"
   ]
  },
  {
   "cell_type": "markdown",
   "metadata": {},
   "source": [
    "## Missing Values"
   ]
  },
  {
   "cell_type": "code",
   "execution_count": 13,
   "metadata": {},
   "outputs": [
    {
     "name": "stdout",
     "output_type": "stream",
     "text": [
      "Are there any missing values? False\n"
     ]
    }
   ],
   "source": [
    "#mean impute\n",
    "\n",
    "X_imputed = X.apply(lambda col: col.fillna(col.mean()), axis=0)\n",
    "has_missing = X_imputed.isnull().any().any()\n",
    "\n",
    "print(\"Are there any missing values?\", has_missing)"
   ]
  },
  {
   "cell_type": "markdown",
   "metadata": {},
   "source": [
    " Due to there being a large amount of features I will first run a model to deterime the most important features then do a post hoc univariant analysis on said features"
   ]
  },
  {
   "cell_type": "markdown",
   "metadata": {},
   "source": [
    "## Model Buidling"
   ]
  },
  {
   "cell_type": "code",
   "execution_count": 14,
   "metadata": {},
   "outputs": [
    {
     "name": "stdout",
     "output_type": "stream",
     "text": [
      "Training data shape: (26043, 65)\n",
      "Validation data shape: (8681, 65)\n",
      "Test data shape: (8681, 65)\n"
     ]
    }
   ],
   "source": [
    "# Split data into train, validation, and test sets\n",
    "X_train_full, X_test, y_train_full, y_test = train_test_split(X_imputed, y, test_size=0.2, random_state=1)\n",
    "X_train, X_val, y_train, y_val = train_test_split(X_train_full, y_train_full, test_size=0.25, random_state=1)\n",
    "# 0.25 x 0.8 = 0.2, so 60% train, 20% validation, 20% test\n",
    "\n",
    "print(f\"Training data shape: {X_train.shape}\")\n",
    "print(f\"Validation data shape: {X_val.shape}\")\n",
    "print(f\"Test data shape: {X_test.shape}\")"
   ]
  },
  {
   "cell_type": "code",
   "execution_count": 15,
   "metadata": {},
   "outputs": [],
   "source": [
    "# Convert data to DMatrix format for XGBoost\n",
    "dtrain = xgb.DMatrix(data=X_train, label=y_train)\n",
    "dval = xgb.DMatrix(data=X_val, label=y_val)\n",
    "dtest = xgb.DMatrix(data=X_test, label=y_test)"
   ]
  },
  {
   "cell_type": "code",
   "execution_count": 16,
   "metadata": {},
   "outputs": [
    {
     "name": "stdout",
     "output_type": "stream",
     "text": [
      "[0]\ttrain-rmse:0.20550\tvalidation-rmse:0.20814\n",
      "[1]\ttrain-rmse:0.19791\tvalidation-rmse:0.20089\n",
      "[2]\ttrain-rmse:0.19099\tvalidation-rmse:0.19461\n",
      "[3]\ttrain-rmse:0.18500\tvalidation-rmse:0.18928\n",
      "[4]\ttrain-rmse:0.17957\tvalidation-rmse:0.18447\n",
      "[5]\ttrain-rmse:0.17483\tvalidation-rmse:0.18061\n",
      "[6]\ttrain-rmse:0.17079\tvalidation-rmse:0.17722\n",
      "[7]\ttrain-rmse:0.16750\tvalidation-rmse:0.17469\n",
      "[8]\ttrain-rmse:0.16380\tvalidation-rmse:0.17173\n",
      "[9]\ttrain-rmse:0.16077\tvalidation-rmse:0.16941\n",
      "[10]\ttrain-rmse:0.15845\tvalidation-rmse:0.16773\n",
      "[11]\ttrain-rmse:0.15648\tvalidation-rmse:0.16632\n",
      "[12]\ttrain-rmse:0.15446\tvalidation-rmse:0.16507\n",
      "[13]\ttrain-rmse:0.15276\tvalidation-rmse:0.16379\n"
     ]
    },
    {
     "name": "stderr",
     "output_type": "stream",
     "text": [
      "c:\\Users\\topsn\\AppData\\Local\\Programs\\Python\\Python312\\Lib\\site-packages\\xgboost\\core.py:158: UserWarning: [15:53:45] WARNING: C:\\buildkite-agent\\builds\\buildkite-windows-cpu-autoscaling-group-i-0ed59c031377d09b8-1\\xgboost\\xgboost-ci-windows\\src\\learner.cc:740: \n",
      "Parameters: { \"n_estimators\" } are not used.\n",
      "\n",
      "  warnings.warn(smsg, UserWarning)\n"
     ]
    },
    {
     "name": "stdout",
     "output_type": "stream",
     "text": [
      "[14]\ttrain-rmse:0.15037\tvalidation-rmse:0.16169\n",
      "[15]\ttrain-rmse:0.14904\tvalidation-rmse:0.16112\n",
      "[16]\ttrain-rmse:0.14782\tvalidation-rmse:0.16042\n",
      "[17]\ttrain-rmse:0.14576\tvalidation-rmse:0.15881\n",
      "[18]\ttrain-rmse:0.14426\tvalidation-rmse:0.15764\n",
      "[19]\ttrain-rmse:0.14344\tvalidation-rmse:0.15721\n",
      "[20]\ttrain-rmse:0.14164\tvalidation-rmse:0.15599\n",
      "[21]\ttrain-rmse:0.14097\tvalidation-rmse:0.15562\n",
      "[22]\ttrain-rmse:0.13995\tvalidation-rmse:0.15474\n",
      "[23]\ttrain-rmse:0.13852\tvalidation-rmse:0.15365\n",
      "[24]\ttrain-rmse:0.13788\tvalidation-rmse:0.15345\n",
      "[25]\ttrain-rmse:0.13684\tvalidation-rmse:0.15311\n",
      "[26]\ttrain-rmse:0.13534\tvalidation-rmse:0.15209\n",
      "[27]\ttrain-rmse:0.13485\tvalidation-rmse:0.15180\n",
      "[28]\ttrain-rmse:0.13437\tvalidation-rmse:0.15159\n",
      "[29]\ttrain-rmse:0.13379\tvalidation-rmse:0.15118\n",
      "[30]\ttrain-rmse:0.13314\tvalidation-rmse:0.15076\n",
      "[31]\ttrain-rmse:0.13258\tvalidation-rmse:0.15043\n",
      "[32]\ttrain-rmse:0.13119\tvalidation-rmse:0.14946\n",
      "[33]\ttrain-rmse:0.13062\tvalidation-rmse:0.14931\n",
      "[34]\ttrain-rmse:0.13004\tvalidation-rmse:0.14907\n",
      "[35]\ttrain-rmse:0.12932\tvalidation-rmse:0.14876\n",
      "[36]\ttrain-rmse:0.12895\tvalidation-rmse:0.14867\n",
      "[37]\ttrain-rmse:0.12799\tvalidation-rmse:0.14856\n",
      "[38]\ttrain-rmse:0.12765\tvalidation-rmse:0.14836\n",
      "[39]\ttrain-rmse:0.12716\tvalidation-rmse:0.14813\n",
      "[40]\ttrain-rmse:0.12671\tvalidation-rmse:0.14795\n",
      "[41]\ttrain-rmse:0.12623\tvalidation-rmse:0.14787\n",
      "[42]\ttrain-rmse:0.12593\tvalidation-rmse:0.14790\n",
      "[43]\ttrain-rmse:0.12560\tvalidation-rmse:0.14777\n",
      "[44]\ttrain-rmse:0.12528\tvalidation-rmse:0.14774\n",
      "[45]\ttrain-rmse:0.12489\tvalidation-rmse:0.14765\n",
      "[46]\ttrain-rmse:0.12468\tvalidation-rmse:0.14759\n",
      "[47]\ttrain-rmse:0.12412\tvalidation-rmse:0.14751\n",
      "[48]\ttrain-rmse:0.12372\tvalidation-rmse:0.14733\n",
      "[49]\ttrain-rmse:0.12330\tvalidation-rmse:0.14725\n",
      "[50]\ttrain-rmse:0.12291\tvalidation-rmse:0.14709\n",
      "[51]\ttrain-rmse:0.12252\tvalidation-rmse:0.14709\n",
      "[52]\ttrain-rmse:0.12238\tvalidation-rmse:0.14705\n",
      "[53]\ttrain-rmse:0.12197\tvalidation-rmse:0.14688\n",
      "[54]\ttrain-rmse:0.12175\tvalidation-rmse:0.14695\n",
      "[55]\ttrain-rmse:0.12068\tvalidation-rmse:0.14641\n",
      "[56]\ttrain-rmse:0.12031\tvalidation-rmse:0.14637\n",
      "[57]\ttrain-rmse:0.11997\tvalidation-rmse:0.14624\n",
      "[58]\ttrain-rmse:0.11960\tvalidation-rmse:0.14620\n",
      "[59]\ttrain-rmse:0.11945\tvalidation-rmse:0.14611\n",
      "[60]\ttrain-rmse:0.11927\tvalidation-rmse:0.14612\n",
      "[61]\ttrain-rmse:0.11874\tvalidation-rmse:0.14595\n",
      "[62]\ttrain-rmse:0.11818\tvalidation-rmse:0.14577\n",
      "[63]\ttrain-rmse:0.11774\tvalidation-rmse:0.14570\n",
      "[64]\ttrain-rmse:0.11731\tvalidation-rmse:0.14562\n",
      "[65]\ttrain-rmse:0.11703\tvalidation-rmse:0.14555\n",
      "[66]\ttrain-rmse:0.11643\tvalidation-rmse:0.14549\n",
      "[67]\ttrain-rmse:0.11618\tvalidation-rmse:0.14549\n",
      "[68]\ttrain-rmse:0.11586\tvalidation-rmse:0.14544\n",
      "[69]\ttrain-rmse:0.11565\tvalidation-rmse:0.14532\n",
      "[70]\ttrain-rmse:0.11546\tvalidation-rmse:0.14526\n",
      "[71]\ttrain-rmse:0.11512\tvalidation-rmse:0.14531\n",
      "[72]\ttrain-rmse:0.11495\tvalidation-rmse:0.14530\n",
      "[73]\ttrain-rmse:0.11465\tvalidation-rmse:0.14535\n",
      "[74]\ttrain-rmse:0.11450\tvalidation-rmse:0.14539\n",
      "[75]\ttrain-rmse:0.11412\tvalidation-rmse:0.14539\n",
      "[76]\ttrain-rmse:0.11388\tvalidation-rmse:0.14540\n",
      "[77]\ttrain-rmse:0.11353\tvalidation-rmse:0.14533\n",
      "[78]\ttrain-rmse:0.11329\tvalidation-rmse:0.14521\n",
      "[79]\ttrain-rmse:0.11314\tvalidation-rmse:0.14523\n",
      "[80]\ttrain-rmse:0.11259\tvalidation-rmse:0.14505\n",
      "[81]\ttrain-rmse:0.11239\tvalidation-rmse:0.14495\n",
      "[82]\ttrain-rmse:0.11189\tvalidation-rmse:0.14491\n",
      "[83]\ttrain-rmse:0.11141\tvalidation-rmse:0.14470\n",
      "[84]\ttrain-rmse:0.11115\tvalidation-rmse:0.14466\n",
      "[85]\ttrain-rmse:0.11094\tvalidation-rmse:0.14464\n",
      "[86]\ttrain-rmse:0.11071\tvalidation-rmse:0.14463\n",
      "[87]\ttrain-rmse:0.11026\tvalidation-rmse:0.14460\n",
      "[88]\ttrain-rmse:0.10981\tvalidation-rmse:0.14454\n",
      "[89]\ttrain-rmse:0.10944\tvalidation-rmse:0.14443\n",
      "[90]\ttrain-rmse:0.10936\tvalidation-rmse:0.14442\n",
      "[91]\ttrain-rmse:0.10902\tvalidation-rmse:0.14441\n",
      "[92]\ttrain-rmse:0.10851\tvalidation-rmse:0.14441\n",
      "[93]\ttrain-rmse:0.10829\tvalidation-rmse:0.14443\n",
      "[94]\ttrain-rmse:0.10780\tvalidation-rmse:0.14447\n",
      "[95]\ttrain-rmse:0.10763\tvalidation-rmse:0.14451\n",
      "[96]\ttrain-rmse:0.10721\tvalidation-rmse:0.14435\n",
      "[97]\ttrain-rmse:0.10685\tvalidation-rmse:0.14435\n",
      "[98]\ttrain-rmse:0.10641\tvalidation-rmse:0.14435\n",
      "[99]\ttrain-rmse:0.10619\tvalidation-rmse:0.14439\n",
      "Root Mean Squared Error (RMSE) on Test Data: 0.13896751516373848\n"
     ]
    }
   ],
   "source": [
    "# Set XGBoost parameters\n",
    "params = {\n",
    "    \"objective\": \"reg:squarederror\",  # For regression tasks\n",
    "    \"eval_metric\": \"rmse\",\n",
    "    \"learning_rate\": 0.1,\n",
    "    \"max_depth\": 6,\n",
    "    \"n_estimators\": 100,\n",
    "    \"seed\": 42\n",
    "}\n",
    "\n",
    "# Train the model with validation set\n",
    "eval_set = [(dtrain, \"train\"), (dval, \"validation\")]\n",
    "model = xgb.train(\n",
    "    params,\n",
    "    dtrain,\n",
    "    num_boost_round=100,\n",
    "    evals=eval_set,\n",
    "    early_stopping_rounds=10,\n",
    "    verbose_eval=True\n",
    ")\n",
    "\n",
    "# Make predictions on the test set\n",
    "y_pred = model.predict(dtest)\n",
    "\n",
    "# Evaluate the model on the test set\n",
    "mse = mean_squared_error(y_test, y_pred)\n",
    "rmse = np.sqrt(mse)\n",
    "\n",
    "print(f\"Root Mean Squared Error (RMSE) on Test Data: {rmse}\")"
   ]
  }
 ],
 "metadata": {
  "kernelspec": {
   "display_name": "Python 3",
   "language": "python",
   "name": "python3"
  },
  "language_info": {
   "codemirror_mode": {
    "name": "ipython",
    "version": 3
   },
   "file_extension": ".py",
   "mimetype": "text/x-python",
   "name": "python",
   "nbconvert_exporter": "python",
   "pygments_lexer": "ipython3",
   "version": "3.12.2"
  }
 },
 "nbformat": 4,
 "nbformat_minor": 2
}
